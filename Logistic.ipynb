{
 "cells": [
  {
   "cell_type": "code",
   "execution_count": 4,
   "metadata": {},
   "outputs": [],
   "source": [
    "import pandas as pd\n",
    "import numpy as np\n",
    "from sklearn.model_selection import train_test_split\n",
    "from sklearn import preprocessing \n",
    "from sklearn.preprocessing import StandardScaler\n",
    "from sklearn.model_selection import KFold"
   ]
  },
  {
   "cell_type": "code",
   "execution_count": 5,
   "metadata": {},
   "outputs": [],
   "source": [
    "col_names=['x1','x2','result']\n",
    "ds=pd.read_csv(r'/home/ise/Downloads/data.csv')"
   ]
  },
  {
   "cell_type": "code",
   "execution_count": 6,
   "metadata": {},
   "outputs": [
    {
     "name": "stdout",
     "output_type": "stream",
     "text": [
      "    34.62365962  78.02469282  0\n",
      "0     30.286711    43.894998  0\n",
      "1     35.847409    72.902198  0\n",
      "2     60.182599    86.308552  1\n",
      "3     79.032736    75.344376  1\n",
      "4     45.083277    56.316372  0\n",
      "..          ...          ... ..\n",
      "94    83.489163    48.380286  1\n",
      "95    42.261701    87.103851  1\n",
      "96    99.315009    68.775409  1\n",
      "97    55.340018    64.931938  1\n",
      "98    74.775893    89.529813  1\n",
      "\n",
      "[99 rows x 3 columns]\n"
     ]
    }
   ],
   "source": [
    "print(ds)"
   ]
  },
  {
   "cell_type": "code",
   "execution_count": 8,
   "metadata": {},
   "outputs": [],
   "source": [
    "#input\n",
    "x = ds.iloc[:,[0,1]].values"
   ]
  },
  {
   "cell_type": "code",
   "execution_count": 9,
   "metadata": {},
   "outputs": [],
   "source": [
    "#output\n",
    "y = ds.iloc[:,2].values"
   ]
  },
  {
   "cell_type": "code",
   "execution_count": 10,
   "metadata": {},
   "outputs": [],
   "source": [
    "xp = preprocessing.scale(x)"
   ]
  },
  {
   "cell_type": "code",
   "execution_count": 12,
   "metadata": {},
   "outputs": [
    {
     "name": "stdout",
     "output_type": "stream",
     "text": [
      "1.590641737857832\n",
      "3.1148936955248936\n",
      "2.412367982045799\n",
      "[0 1 1 1 1 1 0 1 0 1 0 0 0 0 1 1 0 1 0 1]\n",
      "[1.0, 0.0, 0.0, 0.0, 1.0, 0.0, 1.0, 1.0, 1.0, 1.0, 1.0, 1.0, 1.0, 1.0, 0.0, 0.0, 1.0, 1.0, 1.0, 1.0]\n",
      "Accuracy 0.25\n"
     ]
    }
   ],
   "source": [
    "kf=KFold(n_splits=5)\n",
    "for train_index,test_index in kf.split(xp):\n",
    "    xtrain,xtest,ytrain,ytest = train_test_split(xp,y,test_size = 0.20,random_state = 0)\n",
    "    x1 = xtrain[:,0]\n",
    "    x2 = xtrain[:,1]\n",
    "    b0 = 0.0\n",
    "    b1 = 0.0\n",
    "    b2 = 0.0\n",
    "    epoch = 10000\n",
    "    alpha = 0.001\n",
    "    while(epoch>0):\n",
    "        for i in range(len(xtrain)):\n",
    "            prediction = 1/(1+np.exp(-(b0+b1*x1[i]+b2*x2[i])))\n",
    "            b0 = b0+alpha*(ytrain[i]-prediction)*prediction*(1-prediction)*1.0\n",
    "            b1 = b1+alpha*(ytrain[i]-prediction)*prediction*(1-prediction)*x1[i]\n",
    "            b2 = b2+alpha*(ytrain[i]-prediction)*prediction*(1-prediction)*x2[i]\n",
    "        epoch =  epoch-1\n",
    "print(b0)\n",
    "print(b1)\n",
    "print(b2)\n",
    "final_prediction = []\n",
    "x3 = xtest[:,0]\n",
    "x4 = xtest[:,1]\n",
    "print(ytest)\n",
    "y_pred = [0]*len(xtest)\n",
    "for i in range(len(xtest)):\n",
    "    y_pred[i] = np.round(1/(1+np.exp(-b0+b1*x3[i]+b2*x4[i])))\n",
    "    final_prediction.append(np.ceil(y_pred[i]))\n",
    "print(final_prediction)\n",
    "\n",
    "from sklearn.metrics import accuracy_score\n",
    "print(\"Accuracy\",accuracy_score(ytest,y_pred))"
   ]
  },
  {
   "cell_type": "code",
   "execution_count": 13,
   "metadata": {},
   "outputs": [
    {
     "name": "stdout",
     "output_type": "stream",
     "text": [
      "[0 1 1 1 1 1 0 1 0 1 0 0 0 0 1 1 0 1 0 1]\n"
     ]
    }
   ],
   "source": [
    "print(ytest)"
   ]
  },
  {
   "cell_type": "code",
   "execution_count": 15,
   "metadata": {},
   "outputs": [
    {
     "name": "stdout",
     "output_type": "stream",
     "text": [
      "[1.0, 0.0, 0.0, 0.0, 1.0, 0.0, 1.0, 1.0, 1.0, 1.0, 1.0, 1.0, 1.0, 1.0, 0.0, 0.0, 1.0, 1.0, 1.0, 1.0]\n"
     ]
    }
   ],
   "source": [
    "print(y_pred)"
   ]
  }
 ],
 "metadata": {
  "kernelspec": {
   "display_name": "Python 3",
   "language": "python",
   "name": "python3"
  },
  "language_info": {
   "codemirror_mode": {
    "name": "ipython",
    "version": 3
   },
   "file_extension": ".py",
   "mimetype": "text/x-python",
   "name": "python",
   "nbconvert_exporter": "python",
   "pygments_lexer": "ipython3",
   "version": "3.7.6"
  }
 },
 "nbformat": 4,
 "nbformat_minor": 4
}
