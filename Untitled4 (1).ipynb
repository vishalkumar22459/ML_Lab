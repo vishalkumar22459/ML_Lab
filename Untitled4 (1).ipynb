{
 "cells": [
  {
   "cell_type": "code",
   "execution_count": 63,
   "id": "278182ff",
   "metadata": {},
   "outputs": [],
   "source": [
    "import pandas as pd\n",
    "import matplotlib.pyplot as plt"
   ]
  },
  {
   "cell_type": "code",
   "execution_count": 64,
   "id": "e0d1c67b",
   "metadata": {},
   "outputs": [],
   "source": [
    "df = pd.read_csv(\"/home/ise/Downloads/swedish_insurance.csv\")"
   ]
  },
  {
   "cell_type": "code",
   "execution_count": 65,
   "id": "16ca5dd2",
   "metadata": {},
   "outputs": [
    {
     "data": {
      "text/html": [
       "<div>\n",
       "<style scoped>\n",
       "    .dataframe tbody tr th:only-of-type {\n",
       "        vertical-align: middle;\n",
       "    }\n",
       "\n",
       "    .dataframe tbody tr th {\n",
       "        vertical-align: top;\n",
       "    }\n",
       "\n",
       "    .dataframe thead th {\n",
       "        text-align: right;\n",
       "    }\n",
       "</style>\n",
       "<table border=\"1\" class=\"dataframe\">\n",
       "  <thead>\n",
       "    <tr style=\"text-align: right;\">\n",
       "      <th></th>\n",
       "      <th>colA</th>\n",
       "      <th>colB</th>\n",
       "    </tr>\n",
       "  </thead>\n",
       "  <tbody>\n",
       "    <tr>\n",
       "      <th>0</th>\n",
       "      <td>108</td>\n",
       "      <td>392.5</td>\n",
       "    </tr>\n",
       "    <tr>\n",
       "      <th>1</th>\n",
       "      <td>19</td>\n",
       "      <td>46.2</td>\n",
       "    </tr>\n",
       "    <tr>\n",
       "      <th>2</th>\n",
       "      <td>13</td>\n",
       "      <td>15.7</td>\n",
       "    </tr>\n",
       "    <tr>\n",
       "      <th>3</th>\n",
       "      <td>124</td>\n",
       "      <td>422.2</td>\n",
       "    </tr>\n",
       "    <tr>\n",
       "      <th>4</th>\n",
       "      <td>40</td>\n",
       "      <td>119.4</td>\n",
       "    </tr>\n",
       "    <tr>\n",
       "      <th>...</th>\n",
       "      <td>...</td>\n",
       "      <td>...</td>\n",
       "    </tr>\n",
       "    <tr>\n",
       "      <th>58</th>\n",
       "      <td>9</td>\n",
       "      <td>87.4</td>\n",
       "    </tr>\n",
       "    <tr>\n",
       "      <th>59</th>\n",
       "      <td>31</td>\n",
       "      <td>209.8</td>\n",
       "    </tr>\n",
       "    <tr>\n",
       "      <th>60</th>\n",
       "      <td>14</td>\n",
       "      <td>95.5</td>\n",
       "    </tr>\n",
       "    <tr>\n",
       "      <th>61</th>\n",
       "      <td>53</td>\n",
       "      <td>244.6</td>\n",
       "    </tr>\n",
       "    <tr>\n",
       "      <th>62</th>\n",
       "      <td>26</td>\n",
       "      <td>187.5</td>\n",
       "    </tr>\n",
       "  </tbody>\n",
       "</table>\n",
       "<p>63 rows × 2 columns</p>\n",
       "</div>"
      ],
      "text/plain": [
       "    colA   colB\n",
       "0    108  392.5\n",
       "1     19   46.2\n",
       "2     13   15.7\n",
       "3    124  422.2\n",
       "4     40  119.4\n",
       "..   ...    ...\n",
       "58     9   87.4\n",
       "59    31  209.8\n",
       "60    14   95.5\n",
       "61    53  244.6\n",
       "62    26  187.5\n",
       "\n",
       "[63 rows x 2 columns]"
      ]
     },
     "execution_count": 65,
     "metadata": {},
     "output_type": "execute_result"
    }
   ],
   "source": [
    "df"
   ]
  },
  {
   "cell_type": "code",
   "execution_count": 91,
   "id": "ebdb8067",
   "metadata": {},
   "outputs": [
    {
     "data": {
      "text/plain": [
       "<AxesSubplot:xlabel='colA'>"
      ]
     },
     "execution_count": 91,
     "metadata": {},
     "output_type": "execute_result"
    },
    {
     "data": {
      "image/png": "[encoded data removed]",
      "text/plain": [
       "<Figure size 432x288 with 1 Axes>"
      ]
     },
     "metadata": {
      "needs_background": "light"
     },
     "output_type": "display_data"
    }
   ],
   "source": [
    "df.plot(x = \"colA\", y = \"colB\" , style = \"p\")"
   ]
  },
  {
   "cell_type": "code",
   "execution_count": 70,
   "id": "24642fe0",
   "metadata": {},
   "outputs": [
    {
     "name": "stdout",
     "output_type": "stream",
     "text": [
      "22.904761904761905 98.18730158730159\n"
     ]
    }
   ],
   "source": [
    "x_mean = df[\"colA\"].mean()\n",
    "y_mean = df[\"colB\"].mean()\n",
    "print(x_mean , y_mean)"
   ]
  },
  {
   "cell_type": "code",
   "execution_count": 71,
   "id": "faff7fd1",
   "metadata": {},
   "outputs": [],
   "source": [
    "df[\"x\"] = df[\"colA\"] - x_mean\n",
    "df[\"y\"] = df[\"colB\"] - y_mean\n",
    "df[\"x*y\"] = df[\"x\"] * df[\"y\"]\n",
    "df[\"x^2\"] = df[\"x\"]**2\n",
    "df[\"y^2\"] = df[\"y\"]**2"
   ]
  },
  {
   "cell_type": "code",
   "execution_count": 72,
   "id": "0a245f94",
   "metadata": {},
   "outputs": [
    {
     "data": {
      "text/html": [
       "<div>\n",
       "<style scoped>\n",
       "    .dataframe tbody tr th:only-of-type {\n",
       "        vertical-align: middle;\n",
       "    }\n",
       "\n",
       "    .dataframe tbody tr th {\n",
       "        vertical-align: top;\n",
       "    }\n",
       "\n",
       "    .dataframe thead th {\n",
       "        text-align: right;\n",
       "    }\n",
       "</style>\n",
       "<table border=\"1\" class=\"dataframe\">\n",
       "  <thead>\n",
       "    <tr style=\"text-align: right;\">\n",
       "      <th></th>\n",
       "      <th>colA</th>\n",
       "      <th>colB</th>\n",
       "      <th>x</th>\n",
       "      <th>y</th>\n",
       "      <th>x*y</th>\n",
       "      <th>x^2</th>\n",
       "      <th>y^2</th>\n",
       "    </tr>\n",
       "  </thead>\n",
       "  <tbody>\n",
       "    <tr>\n",
       "      <th>0</th>\n",
       "      <td>108</td>\n",
       "      <td>392.5</td>\n",
       "      <td>85.095238</td>\n",
       "      <td>294.312698</td>\n",
       "      <td>25044.609146</td>\n",
       "      <td>7241.199546</td>\n",
       "      <td>86619.964447</td>\n",
       "    </tr>\n",
       "    <tr>\n",
       "      <th>1</th>\n",
       "      <td>19</td>\n",
       "      <td>46.2</td>\n",
       "      <td>-3.904762</td>\n",
       "      <td>-51.987302</td>\n",
       "      <td>202.998035</td>\n",
       "      <td>15.247166</td>\n",
       "      <td>2702.679526</td>\n",
       "    </tr>\n",
       "    <tr>\n",
       "      <th>2</th>\n",
       "      <td>13</td>\n",
       "      <td>15.7</td>\n",
       "      <td>-9.904762</td>\n",
       "      <td>-82.487302</td>\n",
       "      <td>817.017082</td>\n",
       "      <td>98.104308</td>\n",
       "      <td>6804.154923</td>\n",
       "    </tr>\n",
       "    <tr>\n",
       "      <th>3</th>\n",
       "      <td>124</td>\n",
       "      <td>422.2</td>\n",
       "      <td>101.095238</td>\n",
       "      <td>324.012698</td>\n",
       "      <td>32756.140892</td>\n",
       "      <td>10220.247166</td>\n",
       "      <td>104984.228733</td>\n",
       "    </tr>\n",
       "    <tr>\n",
       "      <th>4</th>\n",
       "      <td>40</td>\n",
       "      <td>119.4</td>\n",
       "      <td>17.095238</td>\n",
       "      <td>21.212698</td>\n",
       "      <td>362.636130</td>\n",
       "      <td>292.247166</td>\n",
       "      <td>449.978574</td>\n",
       "    </tr>\n",
       "    <tr>\n",
       "      <th>...</th>\n",
       "      <td>...</td>\n",
       "      <td>...</td>\n",
       "      <td>...</td>\n",
       "      <td>...</td>\n",
       "      <td>...</td>\n",
       "      <td>...</td>\n",
       "      <td>...</td>\n",
       "    </tr>\n",
       "    <tr>\n",
       "      <th>58</th>\n",
       "      <td>9</td>\n",
       "      <td>87.4</td>\n",
       "      <td>-13.904762</td>\n",
       "      <td>-10.787302</td>\n",
       "      <td>149.994860</td>\n",
       "      <td>193.342404</td>\n",
       "      <td>116.365876</td>\n",
       "    </tr>\n",
       "    <tr>\n",
       "      <th>59</th>\n",
       "      <td>31</td>\n",
       "      <td>209.8</td>\n",
       "      <td>8.095238</td>\n",
       "      <td>111.612698</td>\n",
       "      <td>903.531368</td>\n",
       "      <td>65.532880</td>\n",
       "      <td>12457.394447</td>\n",
       "    </tr>\n",
       "    <tr>\n",
       "      <th>60</th>\n",
       "      <td>14</td>\n",
       "      <td>95.5</td>\n",
       "      <td>-8.904762</td>\n",
       "      <td>-2.687302</td>\n",
       "      <td>23.929781</td>\n",
       "      <td>79.294785</td>\n",
       "      <td>7.221590</td>\n",
       "    </tr>\n",
       "    <tr>\n",
       "      <th>61</th>\n",
       "      <td>53</td>\n",
       "      <td>244.6</td>\n",
       "      <td>30.095238</td>\n",
       "      <td>146.412698</td>\n",
       "      <td>4406.325019</td>\n",
       "      <td>905.723356</td>\n",
       "      <td>21436.678256</td>\n",
       "    </tr>\n",
       "    <tr>\n",
       "      <th>62</th>\n",
       "      <td>26</td>\n",
       "      <td>187.5</td>\n",
       "      <td>3.095238</td>\n",
       "      <td>89.312698</td>\n",
       "      <td>276.444067</td>\n",
       "      <td>9.580499</td>\n",
       "      <td>7976.758098</td>\n",
       "    </tr>\n",
       "  </tbody>\n",
       "</table>\n",
       "<p>63 rows × 7 columns</p>\n",
       "</div>"
      ],
      "text/plain": [
       "    colA   colB           x           y           x*y           x^2  \\\n",
       "0    108  392.5   85.095238  294.312698  25044.609146   7241.199546   \n",
       "1     19   46.2   -3.904762  -51.987302    202.998035     15.247166   \n",
       "2     13   15.7   -9.904762  -82.487302    817.017082     98.104308   \n",
       "3    124  422.2  101.095238  324.012698  32756.140892  10220.247166   \n",
       "4     40  119.4   17.095238   21.212698    362.636130    292.247166   \n",
       "..   ...    ...         ...         ...           ...           ...   \n",
       "58     9   87.4  -13.904762  -10.787302    149.994860    193.342404   \n",
       "59    31  209.8    8.095238  111.612698    903.531368     65.532880   \n",
       "60    14   95.5   -8.904762   -2.687302     23.929781     79.294785   \n",
       "61    53  244.6   30.095238  146.412698   4406.325019    905.723356   \n",
       "62    26  187.5    3.095238   89.312698    276.444067      9.580499   \n",
       "\n",
       "              y^2  \n",
       "0    86619.964447  \n",
       "1     2702.679526  \n",
       "2     6804.154923  \n",
       "3   104984.228733  \n",
       "4      449.978574  \n",
       "..            ...  \n",
       "58     116.365876  \n",
       "59   12457.394447  \n",
       "60       7.221590  \n",
       "61   21436.678256  \n",
       "62    7976.758098  \n",
       "\n",
       "[63 rows x 7 columns]"
      ]
     },
     "execution_count": 72,
     "metadata": {},
     "output_type": "execute_result"
    }
   ],
   "source": [
    "df"
   ]
  },
  {
   "cell_type": "code",
   "execution_count": 73,
   "id": "7882ee75",
   "metadata": {},
   "outputs": [],
   "source": [
    "summation_x_y = df[\"x*y\"].sum()\n",
    "summation_x_squared = df[\"x^2\"].sum()\n",
    "summation_y_squared = df[\"y^2\"].sum()"
   ]
  },
  {
   "cell_type": "code",
   "execution_count": 74,
   "id": "308de74e",
   "metadata": {},
   "outputs": [
    {
     "name": "stdout",
     "output_type": "stream",
     "text": [
      "115419.42380952383 33809.42857142857 472818.2898412698\n"
     ]
    }
   ],
   "source": [
    "print(summation_x_y , summation_x_squared , summation_y_squared)"
   ]
  },
  {
   "cell_type": "code",
   "execution_count": 75,
   "id": "ddcba05f",
   "metadata": {},
   "outputs": [],
   "source": [
    "correlation = summation_x_y / (summation_x_squared * summation_y_squared)**0.5"
   ]
  },
  {
   "cell_type": "code",
   "execution_count": 76,
   "id": "a2b34102",
   "metadata": {},
   "outputs": [
    {
     "data": {
      "text/plain": [
       "0.9128782350234069"
      ]
     },
     "execution_count": 76,
     "metadata": {},
     "output_type": "execute_result"
    }
   ],
   "source": [
    "correlation"
   ]
  },
  {
   "cell_type": "code",
   "execution_count": 77,
   "id": "ad89f1c5",
   "metadata": {},
   "outputs": [],
   "source": [
    "def getMean(numbers):\n",
    "    if len(numbers) == 0:\n",
    "        return None\n",
    "    else:\n",
    "        current_sum = 0\n",
    "        for i in numbers:\n",
    "            current_sum += i\n",
    "            current_avg = current_sum/len(numbers)\n",
    "        return current_avg"
   ]
  },
  {
   "cell_type": "code",
   "execution_count": 78,
   "id": "d0624c89",
   "metadata": {},
   "outputs": [],
   "source": [
    "def getStandardDeviation(numbers):\n",
    "    if len(numbers) == 0:\n",
    "        return 0\n",
    "    else:\n",
    "        mean = getMean(numbers)\n",
    "        std_deviation = 0\n",
    "        for i in numbers:\n",
    "            std_deviation += (i - mean)**2\n",
    "        return (std_deviation/len(numbers))**0.5"
   ]
  },
  {
   "cell_type": "code",
   "execution_count": 79,
   "id": "d7837998",
   "metadata": {},
   "outputs": [
    {
     "name": "stdout",
     "output_type": "stream",
     "text": [
      "23.16587137087405 86.63170447187734\n"
     ]
    }
   ],
   "source": [
    "std_deviation_x = getStandardDeviation(df[\"x\"].tolist())\n",
    "std_deviation_y = getStandardDeviation(df[\"y\"].tolist())\n",
    "print(std_deviation_x, std_deviation_y)"
   ]
  },
  {
   "cell_type": "code",
   "execution_count": 80,
   "id": "f2caa8c1",
   "metadata": {},
   "outputs": [],
   "source": [
    "m = correlation*(std_deviation_x / std_deviation_y)"
   ]
  },
  {
   "cell_type": "code",
   "execution_count": 81,
   "id": "675bb456",
   "metadata": {},
   "outputs": [
    {
     "data": {
      "text/plain": [
       "0.24410947353214993"
      ]
     },
     "execution_count": 81,
     "metadata": {},
     "output_type": "execute_result"
    }
   ],
   "source": [
    "m"
   ]
  },
  {
   "cell_type": "code",
   "execution_count": 82,
   "id": "551c966f",
   "metadata": {},
   "outputs": [],
   "source": [
    "c = df[\"colA\"].mean() - m*df[\"colB\"].mean()"
   ]
  },
  {
   "cell_type": "code",
   "execution_count": 83,
   "id": "ff51d522",
   "metadata": {},
   "outputs": [
    {
     "data": {
      "text/plain": [
       "-1.063688593256714"
      ]
     },
     "execution_count": 83,
     "metadata": {},
     "output_type": "execute_result"
    }
   ],
   "source": [
    "c"
   ]
  },
  {
   "cell_type": "code",
   "execution_count": 84,
   "id": "aa6f7f3a",
   "metadata": {},
   "outputs": [
    {
     "data": {
      "text/html": [
       "<div>\n",
       "<style scoped>\n",
       "    .dataframe tbody tr th:only-of-type {\n",
       "        vertical-align: middle;\n",
       "    }\n",
       "\n",
       "    .dataframe tbody tr th {\n",
       "        vertical-align: top;\n",
       "    }\n",
       "\n",
       "    .dataframe thead th {\n",
       "        text-align: right;\n",
       "    }\n",
       "</style>\n",
       "<table border=\"1\" class=\"dataframe\">\n",
       "  <thead>\n",
       "    <tr style=\"text-align: right;\">\n",
       "      <th></th>\n",
       "      <th>colA</th>\n",
       "      <th>colB</th>\n",
       "      <th>x</th>\n",
       "      <th>y</th>\n",
       "      <th>x*y</th>\n",
       "      <th>x^2</th>\n",
       "      <th>y^2</th>\n",
       "      <th>y_prediction</th>\n",
       "    </tr>\n",
       "  </thead>\n",
       "  <tbody>\n",
       "    <tr>\n",
       "      <th>0</th>\n",
       "      <td>108</td>\n",
       "      <td>392.5</td>\n",
       "      <td>85.095238</td>\n",
       "      <td>294.312698</td>\n",
       "      <td>25044.609146</td>\n",
       "      <td>7241.199546</td>\n",
       "      <td>86619.964447</td>\n",
       "      <td>25.300135</td>\n",
       "    </tr>\n",
       "    <tr>\n",
       "      <th>1</th>\n",
       "      <td>19</td>\n",
       "      <td>46.2</td>\n",
       "      <td>-3.904762</td>\n",
       "      <td>-51.987302</td>\n",
       "      <td>202.998035</td>\n",
       "      <td>15.247166</td>\n",
       "      <td>2702.679526</td>\n",
       "      <td>3.574391</td>\n",
       "    </tr>\n",
       "    <tr>\n",
       "      <th>2</th>\n",
       "      <td>13</td>\n",
       "      <td>15.7</td>\n",
       "      <td>-9.904762</td>\n",
       "      <td>-82.487302</td>\n",
       "      <td>817.017082</td>\n",
       "      <td>98.104308</td>\n",
       "      <td>6804.154923</td>\n",
       "      <td>2.109735</td>\n",
       "    </tr>\n",
       "    <tr>\n",
       "      <th>3</th>\n",
       "      <td>124</td>\n",
       "      <td>422.2</td>\n",
       "      <td>101.095238</td>\n",
       "      <td>324.012698</td>\n",
       "      <td>32756.140892</td>\n",
       "      <td>10220.247166</td>\n",
       "      <td>104984.228733</td>\n",
       "      <td>29.205886</td>\n",
       "    </tr>\n",
       "    <tr>\n",
       "      <th>4</th>\n",
       "      <td>40</td>\n",
       "      <td>119.4</td>\n",
       "      <td>17.095238</td>\n",
       "      <td>21.212698</td>\n",
       "      <td>362.636130</td>\n",
       "      <td>292.247166</td>\n",
       "      <td>449.978574</td>\n",
       "      <td>8.700690</td>\n",
       "    </tr>\n",
       "    <tr>\n",
       "      <th>...</th>\n",
       "      <td>...</td>\n",
       "      <td>...</td>\n",
       "      <td>...</td>\n",
       "      <td>...</td>\n",
       "      <td>...</td>\n",
       "      <td>...</td>\n",
       "      <td>...</td>\n",
       "      <td>...</td>\n",
       "    </tr>\n",
       "    <tr>\n",
       "      <th>58</th>\n",
       "      <td>9</td>\n",
       "      <td>87.4</td>\n",
       "      <td>-13.904762</td>\n",
       "      <td>-10.787302</td>\n",
       "      <td>149.994860</td>\n",
       "      <td>193.342404</td>\n",
       "      <td>116.365876</td>\n",
       "      <td>1.133297</td>\n",
       "    </tr>\n",
       "    <tr>\n",
       "      <th>59</th>\n",
       "      <td>31</td>\n",
       "      <td>209.8</td>\n",
       "      <td>8.095238</td>\n",
       "      <td>111.612698</td>\n",
       "      <td>903.531368</td>\n",
       "      <td>65.532880</td>\n",
       "      <td>12457.394447</td>\n",
       "      <td>6.503705</td>\n",
       "    </tr>\n",
       "    <tr>\n",
       "      <th>60</th>\n",
       "      <td>14</td>\n",
       "      <td>95.5</td>\n",
       "      <td>-8.904762</td>\n",
       "      <td>-2.687302</td>\n",
       "      <td>23.929781</td>\n",
       "      <td>79.294785</td>\n",
       "      <td>7.221590</td>\n",
       "      <td>2.353844</td>\n",
       "    </tr>\n",
       "    <tr>\n",
       "      <th>61</th>\n",
       "      <td>53</td>\n",
       "      <td>244.6</td>\n",
       "      <td>30.095238</td>\n",
       "      <td>146.412698</td>\n",
       "      <td>4406.325019</td>\n",
       "      <td>905.723356</td>\n",
       "      <td>21436.678256</td>\n",
       "      <td>11.874114</td>\n",
       "    </tr>\n",
       "    <tr>\n",
       "      <th>62</th>\n",
       "      <td>26</td>\n",
       "      <td>187.5</td>\n",
       "      <td>3.095238</td>\n",
       "      <td>89.312698</td>\n",
       "      <td>276.444067</td>\n",
       "      <td>9.580499</td>\n",
       "      <td>7976.758098</td>\n",
       "      <td>5.283158</td>\n",
       "    </tr>\n",
       "  </tbody>\n",
       "</table>\n",
       "<p>63 rows × 8 columns</p>\n",
       "</div>"
      ],
      "text/plain": [
       "    colA   colB           x           y           x*y           x^2  \\\n",
       "0    108  392.5   85.095238  294.312698  25044.609146   7241.199546   \n",
       "1     19   46.2   -3.904762  -51.987302    202.998035     15.247166   \n",
       "2     13   15.7   -9.904762  -82.487302    817.017082     98.104308   \n",
       "3    124  422.2  101.095238  324.012698  32756.140892  10220.247166   \n",
       "4     40  119.4   17.095238   21.212698    362.636130    292.247166   \n",
       "..   ...    ...         ...         ...           ...           ...   \n",
       "58     9   87.4  -13.904762  -10.787302    149.994860    193.342404   \n",
       "59    31  209.8    8.095238  111.612698    903.531368     65.532880   \n",
       "60    14   95.5   -8.904762   -2.687302     23.929781     79.294785   \n",
       "61    53  244.6   30.095238  146.412698   4406.325019    905.723356   \n",
       "62    26  187.5    3.095238   89.312698    276.444067      9.580499   \n",
       "\n",
       "              y^2  y_prediction  \n",
       "0    86619.964447     25.300135  \n",
       "1     2702.679526      3.574391  \n",
       "2     6804.154923      2.109735  \n",
       "3   104984.228733     29.205886  \n",
       "4      449.978574      8.700690  \n",
       "..            ...           ...  \n",
       "58     116.365876      1.133297  \n",
       "59   12457.394447      6.503705  \n",
       "60       7.221590      2.353844  \n",
       "61   21436.678256     11.874114  \n",
       "62    7976.758098      5.283158  \n",
       "\n",
       "[63 rows x 8 columns]"
      ]
     },
     "execution_count": 84,
     "metadata": {},
     "output_type": "execute_result"
    }
   ],
   "source": [
    "df[\"y_prediction\"] = m*df[\"colA\"] + c\n",
    "df"
   ]
  },
  {
   "cell_type": "code",
   "execution_count": 87,
   "id": "c2138d81",
   "metadata": {},
   "outputs": [
    {
     "data": {
      "image/png": "[encoded data removed]",
      "text/plain": [
       "<Figure size 432x288 with 1 Axes>"
      ]
     },
     "metadata": {
      "needs_background": "light"
     },
     "output_type": "display_data"
    }
   ],
   "source": [
    "plot1 = plt.scatter(df[\"colA\"],df[\"colB\"])"
   ]
  },
  {
   "cell_type": "code",
   "execution_count": 88,
   "id": "d7bb3541",
   "metadata": {},
   "outputs": [
    {
     "data": {
      "image/png": "[encoded data removed]",
      "text/plain": [
       "<Figure size 432x288 with 1 Axes>"
      ]
     },
     "metadata": {
      "needs_background": "light"
     },
     "output_type": "display_data"
    }
   ],
   "source": [
    "plot2 = plt.scatter(df[\"colA\"],df[\"y_prediction\"])"
   ]
  },
  {
   "cell_type": "code",
   "execution_count": null,
   "id": "ebf6e9f2",
   "metadata": {},
   "outputs": [],
   "source": []
  }
 ],
 "metadata": {
  "kernelspec": {
   "display_name": "Python 3 (ipykernel)",
   "language": "python",
   "name": "python3"
  },
  "language_info": {
   "codemirror_mode": {
    "name": "ipython",
    "version": 3
   },
   "file_extension": ".py",
   "mimetype": "text/x-python",
   "name": "python",
   "nbconvert_exporter": "python",
   "pygments_lexer": "ipython3",
   "version": "3.10.6"
  }
 },
 "nbformat": 4,
 "nbformat_minor": 5
}
