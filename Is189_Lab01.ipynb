{
 "cells": [
  {
   "cell_type": "code",
   "execution_count": 2,
   "metadata": {},
   "outputs": [
    {
     "name": "stdout",
     "output_type": "stream",
     "text": [
      "10,20,30,40,50,60\n",
      "Mean :  30.0\n"
     ]
    }
   ],
   "source": [
    "# mean\n",
    "l = list(map(float,input().split(\",\")))\n",
    "sum =0\n",
    "j=1\n",
    "for i in l:\n",
    "    sum+=i\n",
    "    j = j+1\n",
    "print(\"Mean : \",(sum/j))\n"
   ]
  },
  {
   "cell_type": "code",
   "execution_count": 9,
   "metadata": {},
   "outputs": [
    {
     "name": "stdout",
     "output_type": "stream",
     "text": [
      "3,2,4,1,5\n",
      "2.5\n"
     ]
    }
   ],
   "source": [
    "# median\n",
    "l = list(map(float,input().split(\",\")))\n",
    "sum =0\n",
    "j=1\n",
    "l.sort(reverse=True)\n",
    "i=int(len(l)/2)\n",
    "if(i%2==0):\n",
    "    print((l[i]+l[i+1])/2)\n",
    "else:\n",
    "    print(l[i])"
   ]
  },
  {
   "cell_type": "code",
   "execution_count": 11,
   "metadata": {},
   "outputs": [
    {
     "name": "stdout",
     "output_type": "stream",
     "text": [
      "1,2,3,2,1\n",
      "[1, 2]\n"
     ]
    }
   ],
   "source": [
    "# mode\n",
    "l=list(map(int,input().split(\",\")))\n",
    "m1=l[0]\n",
    "l1 = []\n",
    "for i in l:\n",
    "    if l.count(i)>m1:\n",
    "        m1=i\n",
    "        l1.append(m1)\n",
    "print(l1)"
   ]
  },
  {
   "cell_type": "code",
   "execution_count": 17,
   "metadata": {},
   "outputs": [
    {
     "name": "stdout",
     "output_type": "stream",
     "text": [
      "1,2,3,4,5\n",
      "2.0\n"
     ]
    }
   ],
   "source": [
    "# variance\n",
    "l=list(map(int,input().split(\",\")))\n",
    "sum =0\n",
    "j=1\n",
    "for i in l:\n",
    "    sum+=i\n",
    "mean=sum/len(l)\n",
    "sum1=0\n",
    "for i in l:\n",
    "    sum1+=(mean-i)**2/len(l)\n",
    "print(sum1)"
   ]
  },
  {
   "cell_type": "code",
   "execution_count": 19,
   "metadata": {},
   "outputs": [
    {
     "name": "stdout",
     "output_type": "stream",
     "text": [
      "1,2,3,4,5\n",
      "1.4142135623730951\n"
     ]
    }
   ],
   "source": [
    "#standard deviation\n",
    "l=list(map(int,input().split(\",\")))\n",
    "sum =0\n",
    "j=1\n",
    "for i in l:\n",
    "    sum+=i\n",
    "mean=sum/len(l)\n",
    "sum1=0\n",
    "for i in l:\n",
    "    sum1+=(mean-i)**2/len(l)\n",
    "print(sum1**0.5)"
   ]
  },
  {
   "cell_type": "code",
   "execution_count": 20,
   "metadata": {},
   "outputs": [
    {
     "name": "stdout",
     "output_type": "stream",
     "text": [
      "1,2,3,4,5\n",
      "0.0 , 0.25 , 0.5 , 0.75 , 1.0\n"
     ]
    }
   ],
   "source": [
    "# Normalization\n",
    "l=list(map(float,input().split(\",\")))\n",
    "min1=min(l)\n",
    "r=max(l)-min(l)\n",
    "for i in range(len(l)):\n",
    "    l[i]=(l[i]-min1)/r\n",
    "    \n",
    "print(\" , \".join(map(str,l))) "
   ]
  },
  {
   "cell_type": "code",
   "execution_count": 22,
   "metadata": {},
   "outputs": [
    {
     "name": "stdout",
     "output_type": "stream",
     "text": [
      "1,2,3,4,5\n",
      "-1.2649110640673518, -0.41555440124028076, 0.0, 0.35323579611642264, 0.8131221364193192\n"
     ]
    }
   ],
   "source": [
    "# standardization\n",
    "from statistics import stdev\n",
    "from statistics import mean\n",
    "l=list(map(float,input().split(\",\")))\n",
    "m=mean(l)\n",
    "for i in range(len(l)):\n",
    "    l[i]=(l[i]-m)/stdev(l)\n",
    "    \n",
    "print(\", \".join(map(str,l)))"
   ]
  },
  {
   "cell_type": "code",
   "execution_count": null,
   "metadata": {},
   "outputs": [],
   "source": []
  }
 ],
 "metadata": {
  "kernelspec": {
   "display_name": "Python 3",
   "language": "python",
   "name": "python3"
  },
  "language_info": {
   "codemirror_mode": {
    "name": "ipython",
    "version": 3
   },
   "file_extension": ".py",
   "mimetype": "text/x-python",
   "name": "python",
   "nbconvert_exporter": "python",
   "pygments_lexer": "ipython3",
   "version": "3.8.10"
  }
 },
 "nbformat": 4,
 "nbformat_minor": 4
}
