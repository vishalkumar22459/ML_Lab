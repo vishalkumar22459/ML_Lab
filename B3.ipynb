{
 "cells": [
  {
   "cell_type": "code",
   "execution_count": 1,
   "metadata": {},
   "outputs": [],
   "source": [
    "import pandas as pd\n",
    "import numpy as np\n",
    "import matplotlib.pyplot as plt\n",
    "import seaborn as sns\n",
    "data = pd.read_csv('/home/ignis/Desktop/dataaset/pima.csv')"
   ]
  },
  {
   "cell_type": "code",
   "execution_count": 2,
   "metadata": {},
   "outputs": [
    {
     "data": {
      "text/html": [
       "<div>\n",
       "<style scoped>\n",
       "    .dataframe tbody tr th:only-of-type {\n",
       "        vertical-align: middle;\n",
       "    }\n",
       "\n",
       "    .dataframe tbody tr th {\n",
       "        vertical-align: top;\n",
       "    }\n",
       "\n",
       "    .dataframe thead th {\n",
       "        text-align: right;\n",
       "    }\n",
       "</style>\n",
       "<table border=\"1\" class=\"dataframe\">\n",
       "  <thead>\n",
       "    <tr style=\"text-align: right;\">\n",
       "      <th></th>\n",
       "      <th>Pregnancies</th>\n",
       "      <th>Glucose</th>\n",
       "      <th>BloodPressure</th>\n",
       "      <th>SkinThickness</th>\n",
       "      <th>Insulin</th>\n",
       "      <th>BMI</th>\n",
       "      <th>DiabetesPedigreeFunction</th>\n",
       "      <th>Age</th>\n",
       "      <th>Outcome</th>\n",
       "    </tr>\n",
       "  </thead>\n",
       "  <tbody>\n",
       "    <tr>\n",
       "      <th>0</th>\n",
       "      <td>6</td>\n",
       "      <td>148</td>\n",
       "      <td>72</td>\n",
       "      <td>35</td>\n",
       "      <td>0</td>\n",
       "      <td>33.6</td>\n",
       "      <td>0.627</td>\n",
       "      <td>50</td>\n",
       "      <td>1</td>\n",
       "    </tr>\n",
       "    <tr>\n",
       "      <th>1</th>\n",
       "      <td>1</td>\n",
       "      <td>85</td>\n",
       "      <td>66</td>\n",
       "      <td>29</td>\n",
       "      <td>0</td>\n",
       "      <td>26.6</td>\n",
       "      <td>0.351</td>\n",
       "      <td>31</td>\n",
       "      <td>0</td>\n",
       "    </tr>\n",
       "    <tr>\n",
       "      <th>2</th>\n",
       "      <td>8</td>\n",
       "      <td>183</td>\n",
       "      <td>64</td>\n",
       "      <td>0</td>\n",
       "      <td>0</td>\n",
       "      <td>23.3</td>\n",
       "      <td>0.672</td>\n",
       "      <td>32</td>\n",
       "      <td>1</td>\n",
       "    </tr>\n",
       "    <tr>\n",
       "      <th>3</th>\n",
       "      <td>1</td>\n",
       "      <td>89</td>\n",
       "      <td>66</td>\n",
       "      <td>23</td>\n",
       "      <td>94</td>\n",
       "      <td>28.1</td>\n",
       "      <td>0.167</td>\n",
       "      <td>21</td>\n",
       "      <td>0</td>\n",
       "    </tr>\n",
       "    <tr>\n",
       "      <th>4</th>\n",
       "      <td>0</td>\n",
       "      <td>137</td>\n",
       "      <td>40</td>\n",
       "      <td>35</td>\n",
       "      <td>168</td>\n",
       "      <td>43.1</td>\n",
       "      <td>2.288</td>\n",
       "      <td>33</td>\n",
       "      <td>1</td>\n",
       "    </tr>\n",
       "  </tbody>\n",
       "</table>\n",
       "</div>"
      ],
      "text/plain": [
       "   Pregnancies  Glucose  BloodPressure  SkinThickness  Insulin   BMI  \\\n",
       "0            6      148             72             35        0  33.6   \n",
       "1            1       85             66             29        0  26.6   \n",
       "2            8      183             64              0        0  23.3   \n",
       "3            1       89             66             23       94  28.1   \n",
       "4            0      137             40             35      168  43.1   \n",
       "\n",
       "   DiabetesPedigreeFunction  Age  Outcome  \n",
       "0                     0.627   50        1  \n",
       "1                     0.351   31        0  \n",
       "2                     0.672   32        1  \n",
       "3                     0.167   21        0  \n",
       "4                     2.288   33        1  "
      ]
     },
     "execution_count": 2,
     "metadata": {},
     "output_type": "execute_result"
    }
   ],
   "source": [
    "data.head()"
   ]
  },
  {
   "cell_type": "code",
   "execution_count": 3,
   "metadata": {},
   "outputs": [
    {
     "name": "stdout",
     "output_type": "stream",
     "text": [
      "Requirement already satisfied: pandas_profiling in /home/ignis/anaconda3/lib/python3.7/site-packages (3.6.1)\n",
      "Requirement already satisfied: matplotlib<3.7,>=3.2 in /home/ignis/anaconda3/lib/python3.7/site-packages (from pandas_profiling) (3.5.3)\n",
      "Requirement already satisfied: jinja2<3.2,>=2.11.1 in /home/ignis/anaconda3/lib/python3.7/site-packages (from pandas_profiling) (2.11.1)\n",
      "Requirement already satisfied: PyYAML<6.1,>=5.0.0 in /home/ignis/anaconda3/lib/python3.7/site-packages (from pandas_profiling) (5.3)\n",
      "Requirement already satisfied: requests<2.29,>=2.24.0 in /home/ignis/anaconda3/lib/python3.7/site-packages (from pandas_profiling) (2.28.1)\n",
      "Requirement already satisfied: tqdm<4.65,>=4.48.2 in /home/ignis/anaconda3/lib/python3.7/site-packages (from pandas_profiling) (4.64.1)\n",
      "Requirement already satisfied: numpy<1.24,>=1.16.0 in /home/ignis/anaconda3/lib/python3.7/site-packages (from pandas_profiling) (1.18.1)\n",
      "Requirement already satisfied: seaborn<0.13,>=0.10.1 in /home/ignis/anaconda3/lib/python3.7/site-packages (from pandas_profiling) (0.12.2)\n",
      "Requirement already satisfied: pydantic<1.11,>=1.8.1 in /home/ignis/anaconda3/lib/python3.7/site-packages (from pandas_profiling) (1.10.4)\n",
      "Requirement already satisfied: statsmodels<0.14,>=0.13.2 in /home/ignis/anaconda3/lib/python3.7/site-packages (from pandas_profiling) (0.13.5)\n",
      "Requirement already satisfied: visions[type_image_path]==0.7.5 in /home/ignis/anaconda3/lib/python3.7/site-packages (from pandas_profiling) (0.7.5)\n",
      "Requirement already satisfied: typeguard<2.14,>=2.13.2 in /home/ignis/anaconda3/lib/python3.7/site-packages (from pandas_profiling) (2.13.3)\n",
      "Requirement already satisfied: multimethod<1.10,>=1.4 in /home/ignis/anaconda3/lib/python3.7/site-packages (from pandas_profiling) (1.9.1)\n",
      "Requirement already satisfied: scipy<1.10,>=1.4.1 in /home/ignis/anaconda3/lib/python3.7/site-packages (from pandas_profiling) (1.4.1)\n",
      "Requirement already satisfied: htmlmin==0.1.12 in /home/ignis/anaconda3/lib/python3.7/site-packages (from pandas_profiling) (0.1.12)\n",
      "Requirement already satisfied: phik<0.13,>=0.11.1 in /home/ignis/anaconda3/lib/python3.7/site-packages (from pandas_profiling) (0.12.3)\n",
      "Requirement already satisfied: pandas!=1.4.0,<1.6,>1.1 in /home/ignis/anaconda3/lib/python3.7/site-packages (from pandas_profiling) (1.3.5)\n",
      "Requirement already satisfied: fonttools>=4.22.0 in /home/ignis/anaconda3/lib/python3.7/site-packages (from matplotlib<3.7,>=3.2->pandas_profiling) (4.38.0)\n",
      "Requirement already satisfied: packaging>=20.0 in /home/ignis/anaconda3/lib/python3.7/site-packages (from matplotlib<3.7,>=3.2->pandas_profiling) (22.0)\n",
      "Requirement already satisfied: cycler>=0.10 in /home/ignis/anaconda3/lib/python3.7/site-packages (from matplotlib<3.7,>=3.2->pandas_profiling) (0.10.0)\n",
      "Requirement already satisfied: pillow>=6.2.0 in /home/ignis/anaconda3/lib/python3.7/site-packages (from matplotlib<3.7,>=3.2->pandas_profiling) (7.0.0)\n",
      "Requirement already satisfied: kiwisolver>=1.0.1 in /home/ignis/anaconda3/lib/python3.7/site-packages (from matplotlib<3.7,>=3.2->pandas_profiling) (1.1.0)\n",
      "Requirement already satisfied: python-dateutil>=2.7 in /home/ignis/anaconda3/lib/python3.7/site-packages (from matplotlib<3.7,>=3.2->pandas_profiling) (2.8.1)\n",
      "Requirement already satisfied: pyparsing>=2.2.1 in /home/ignis/anaconda3/lib/python3.7/site-packages (from matplotlib<3.7,>=3.2->pandas_profiling) (2.4.6)\n",
      "Requirement already satisfied: MarkupSafe>=0.23 in /home/ignis/anaconda3/lib/python3.7/site-packages (from jinja2<3.2,>=2.11.1->pandas_profiling) (1.1.1)\n",
      "Requirement already satisfied: urllib3<1.27,>=1.21.1 in /home/ignis/anaconda3/lib/python3.7/site-packages (from requests<2.29,>=2.24.0->pandas_profiling) (1.25.8)\n",
      "Requirement already satisfied: charset-normalizer<3,>=2 in /home/ignis/anaconda3/lib/python3.7/site-packages (from requests<2.29,>=2.24.0->pandas_profiling) (2.1.1)\n",
      "Requirement already satisfied: certifi>=2017.4.17 in /home/ignis/anaconda3/lib/python3.7/site-packages (from requests<2.29,>=2.24.0->pandas_profiling) (2019.11.28)\n",
      "Requirement already satisfied: idna<4,>=2.5 in /home/ignis/anaconda3/lib/python3.7/site-packages (from requests<2.29,>=2.24.0->pandas_profiling) (2.8)\n",
      "Requirement already satisfied: typing_extensions; python_version < \"3.8\" in /home/ignis/anaconda3/lib/python3.7/site-packages (from seaborn<0.13,>=0.10.1->pandas_profiling) (4.4.0)\n",
      "Requirement already satisfied: patsy>=0.5.2 in /home/ignis/anaconda3/lib/python3.7/site-packages (from statsmodels<0.14,>=0.13.2->pandas_profiling) (0.5.3)\n",
      "Requirement already satisfied: tangled-up-in-unicode>=0.0.4 in /home/ignis/anaconda3/lib/python3.7/site-packages (from visions[type_image_path]==0.7.5->pandas_profiling) (0.2.0)\n",
      "Requirement already satisfied: attrs>=19.3.0 in /home/ignis/anaconda3/lib/python3.7/site-packages (from visions[type_image_path]==0.7.5->pandas_profiling) (19.3.0)\n",
      "Requirement already satisfied: networkx>=2.4 in /home/ignis/anaconda3/lib/python3.7/site-packages (from visions[type_image_path]==0.7.5->pandas_profiling) (2.4)\n",
      "Requirement already satisfied: imagehash; extra == \"type_image_path\" in /home/ignis/anaconda3/lib/python3.7/site-packages (from visions[type_image_path]==0.7.5->pandas_profiling) (4.3.1)\n",
      "Requirement already satisfied: joblib>=0.14.1 in /home/ignis/anaconda3/lib/python3.7/site-packages (from phik<0.13,>=0.11.1->pandas_profiling) (0.14.1)\n",
      "Requirement already satisfied: pytz>=2017.3 in /home/ignis/anaconda3/lib/python3.7/site-packages (from pandas!=1.4.0,<1.6,>1.1->pandas_profiling) (2019.3)\n",
      "Requirement already satisfied: six in /home/ignis/anaconda3/lib/python3.7/site-packages (from cycler>=0.10->matplotlib<3.7,>=3.2->pandas_profiling) (1.14.0)\n",
      "Requirement already satisfied: setuptools in /home/ignis/anaconda3/lib/python3.7/site-packages (from kiwisolver>=1.0.1->matplotlib<3.7,>=3.2->pandas_profiling) (45.2.0.post20200210)\n",
      "Requirement already satisfied: decorator>=4.3.0 in /home/ignis/anaconda3/lib/python3.7/site-packages (from networkx>=2.4->visions[type_image_path]==0.7.5->pandas_profiling) (4.4.1)\n",
      "Requirement already satisfied: PyWavelets in /home/ignis/anaconda3/lib/python3.7/site-packages (from imagehash; extra == \"type_image_path\"->visions[type_image_path]==0.7.5->pandas_profiling) (1.1.1)\n",
      "Note: you may need to restart the kernel to use updated packages.\n"
     ]
    }
   ],
   "source": [
    "pip install pandas_profiling"
   ]
  },
  {
   "cell_type": "code",
   "execution_count": 4,
   "metadata": {},
   "outputs": [],
   "source": [
    "from sklearn.model_selection import train_test_split\n",
    "from sklearn.ensemble import RandomForestClassifier\n",
    "from sklearn.datasets import make_classification\n",
    "from sklearn.metrics import accuracy_score\n",
    "from sklearn.preprocessing import StandardScaler, MinMaxScaler\n",
    "import pandas_profiling\n",
    "from matplotlib import rcParams\n",
    "import warnings"
   ]
  },
  {
   "cell_type": "code",
   "execution_count": 5,
   "metadata": {},
   "outputs": [],
   "source": [
    "data.columns\n",
    "\n",
    "X=data.drop(\"Outcome\",axis=1)\n",
    "y=data[\"Outcome\"]"
   ]
  },
  {
   "cell_type": "code",
   "execution_count": 6,
   "metadata": {},
   "outputs": [],
   "source": [
    "scaler=StandardScaler()\n",
    "X_scaled=scaler.fit_transform(X)"
   ]
  },
  {
   "cell_type": "code",
   "execution_count": 7,
   "metadata": {},
   "outputs": [],
   "source": [
    "X_train,X_test,Y_train,Y_test=train_test_split(X_scaled,y,stratify=y,test_size=0.10,random_state=34)"
   ]
  },
  {
   "cell_type": "code",
   "execution_count": 8,
   "metadata": {},
   "outputs": [
    {
     "data": {
      "text/plain": [
       "RandomForestClassifier()"
      ]
     },
     "execution_count": 8,
     "metadata": {},
     "output_type": "execute_result"
    }
   ],
   "source": [
    "classifier = RandomForestClassifier(n_estimators=100)\n",
    "classifier.fit(X_train,Y_train)"
   ]
  },
  {
   "cell_type": "code",
   "execution_count": 9,
   "metadata": {},
   "outputs": [],
   "source": [
    "y_pred = classifier.predict(X_test)"
   ]
  },
  {
   "cell_type": "code",
   "execution_count": 10,
   "metadata": {},
   "outputs": [
    {
     "name": "stdout",
     "output_type": "stream",
     "text": [
      "Accuracy: 0.8311688311688312\n"
     ]
    }
   ],
   "source": [
    "\n",
    "print(\"Accuracy:\",accuracy_score(Y_test,y_pred))"
   ]
  },
  {
   "cell_type": "code",
   "execution_count": 11,
   "metadata": {},
   "outputs": [
    {
     "data": {
      "text/html": [
       "<div>\n",
       "<style scoped>\n",
       "    .dataframe tbody tr th:only-of-type {\n",
       "        vertical-align: middle;\n",
       "    }\n",
       "\n",
       "    .dataframe tbody tr th {\n",
       "        vertical-align: top;\n",
       "    }\n",
       "\n",
       "    .dataframe thead th {\n",
       "        text-align: right;\n",
       "    }\n",
       "</style>\n",
       "<table border=\"1\" class=\"dataframe\">\n",
       "  <thead>\n",
       "    <tr style=\"text-align: right;\">\n",
       "      <th></th>\n",
       "      <th>feature</th>\n",
       "      <th>importance</th>\n",
       "    </tr>\n",
       "  </thead>\n",
       "  <tbody>\n",
       "    <tr>\n",
       "      <th>1</th>\n",
       "      <td>Glucose</td>\n",
       "      <td>0.255316</td>\n",
       "    </tr>\n",
       "    <tr>\n",
       "      <th>5</th>\n",
       "      <td>BMI</td>\n",
       "      <td>0.159844</td>\n",
       "    </tr>\n",
       "    <tr>\n",
       "      <th>7</th>\n",
       "      <td>Age</td>\n",
       "      <td>0.137520</td>\n",
       "    </tr>\n",
       "    <tr>\n",
       "      <th>6</th>\n",
       "      <td>DiabetesPedigreeFunction</td>\n",
       "      <td>0.131539</td>\n",
       "    </tr>\n",
       "    <tr>\n",
       "      <th>2</th>\n",
       "      <td>BloodPressure</td>\n",
       "      <td>0.091714</td>\n",
       "    </tr>\n",
       "    <tr>\n",
       "      <th>0</th>\n",
       "      <td>Pregnancies</td>\n",
       "      <td>0.081874</td>\n",
       "    </tr>\n",
       "    <tr>\n",
       "      <th>3</th>\n",
       "      <td>SkinThickness</td>\n",
       "      <td>0.072832</td>\n",
       "    </tr>\n",
       "    <tr>\n",
       "      <th>4</th>\n",
       "      <td>Insulin</td>\n",
       "      <td>0.069361</td>\n",
       "    </tr>\n",
       "  </tbody>\n",
       "</table>\n",
       "</div>"
      ],
      "text/plain": [
       "                    feature  importance\n",
       "1                   Glucose    0.255316\n",
       "5                       BMI    0.159844\n",
       "7                       Age    0.137520\n",
       "6  DiabetesPedigreeFunction    0.131539\n",
       "2             BloodPressure    0.091714\n",
       "0               Pregnancies    0.081874\n",
       "3             SkinThickness    0.072832\n",
       "4                   Insulin    0.069361"
      ]
     },
     "execution_count": 11,
     "metadata": {},
     "output_type": "execute_result"
    }
   ],
   "source": [
    "feature_importances_df = pd.DataFrame({\"feature\":list(X.columns),\"importance\":classifier.feature_importances_}).sort_values(\"importance\",ascending=False)\n",
    "\n",
    "feature_importances_df"
   ]
  },
  {
   "cell_type": "code",
   "execution_count": 12,
   "metadata": {},
   "outputs": [
    {
     "data": {
      "text/plain": [
       "DecisionTreeClassifier()"
      ]
     },
     "execution_count": 12,
     "metadata": {},
     "output_type": "execute_result"
    }
   ],
   "source": [
    "from sklearn.tree import DecisionTreeClassifier\n",
    "clf=DecisionTreeClassifier()\n",
    "clf.fit(X_train,Y_train)"
   ]
  },
  {
   "cell_type": "code",
   "execution_count": 13,
   "metadata": {},
   "outputs": [
    {
     "ename": "NameError",
     "evalue": "name 'y_pred1' is not defined",
     "output_type": "error",
     "traceback": [
      "\u001b[0;31m---------------------------------------------------------------------------\u001b[0m",
      "\u001b[0;31mNameError\u001b[0m                                 Traceback (most recent call last)",
      "\u001b[0;32m<ipython-input-13-54b09b8f5c68>\u001b[0m in \u001b[0;36m<module>\u001b[0;34m\u001b[0m\n\u001b[0;32m----> 1\u001b[0;31m \u001b[0mprint\u001b[0m\u001b[0;34m(\u001b[0m\u001b[0;34m\"prediction by model1 \"\u001b[0m\u001b[0;34m,\u001b[0m\u001b[0maccuracy_score\u001b[0m\u001b[0;34m(\u001b[0m\u001b[0mY_test\u001b[0m\u001b[0;34m,\u001b[0m\u001b[0my_pred1\u001b[0m\u001b[0;34m)\u001b[0m\u001b[0;34m)\u001b[0m\u001b[0;34m\u001b[0m\u001b[0;34m\u001b[0m\u001b[0m\n\u001b[0m\u001b[1;32m      2\u001b[0m \u001b[0mprint\u001b[0m\u001b[0;34m(\u001b[0m\u001b[0;34m\"prediction by model2\"\u001b[0m\u001b[0;34m,\u001b[0m\u001b[0maccuracy_score\u001b[0m\u001b[0;34m(\u001b[0m\u001b[0mY_test\u001b[0m\u001b[0;34m,\u001b[0m\u001b[0my_pred2\u001b[0m\u001b[0;34m)\u001b[0m\u001b[0;34m)\u001b[0m\u001b[0;34m\u001b[0m\u001b[0;34m\u001b[0m\u001b[0m\n\u001b[1;32m      3\u001b[0m \u001b[0mprint\u001b[0m\u001b[0;34m(\u001b[0m\u001b[0;34m\"prediction by model3\"\u001b[0m\u001b[0;34m,\u001b[0m\u001b[0maccuracy_score\u001b[0m\u001b[0;34m(\u001b[0m\u001b[0mY_test\u001b[0m\u001b[0;34m,\u001b[0m\u001b[0my_pred1\u001b[0m\u001b[0;34m)\u001b[0m\u001b[0;34m)\u001b[0m\u001b[0;34m\u001b[0m\u001b[0;34m\u001b[0m\u001b[0m\n\u001b[1;32m      4\u001b[0m \u001b[0mY_pred\u001b[0m \u001b[0;34m=\u001b[0m \u001b[0mclf\u001b[0m\u001b[0;34m.\u001b[0m\u001b[0mpredict\u001b[0m\u001b[0;34m(\u001b[0m\u001b[0mX_test\u001b[0m\u001b[0;34m)\u001b[0m\u001b[0;34m\u001b[0m\u001b[0;34m\u001b[0m\u001b[0m\n",
      "\u001b[0;31mNameError\u001b[0m: name 'y_pred1' is not defined"
     ]
    }
   ],
   "source": [
    "print(\"prediction by model1 \",accuracy_score(Y_test,y_pred1))\n",
    "print(\"prediction by model2\",accuracy_score(Y_test,y_pred2))\n",
    "print(\"prediction by model3\",accuracy_score(Y_test,y_pred1))\n",
    "Y_pred = clf.predict(X_test)"
   ]
  },
  {
   "cell_type": "code",
   "execution_count": null,
   "metadata": {},
   "outputs": [],
   "source": []
  }
 ],
 "metadata": {
  "kernelspec": {
   "display_name": "Python 3",
   "language": "python",
   "name": "python3"
  },
  "language_info": {
   "codemirror_mode": {
    "name": "ipython",
    "version": 3
   },
   "file_extension": ".py",
   "mimetype": "text/x-python",
   "name": "python",
   "nbconvert_exporter": "python",
   "pygments_lexer": "ipython3",
   "version": "3.7.6"
  }
 },
 "nbformat": 4,
 "nbformat_minor": 4
}
